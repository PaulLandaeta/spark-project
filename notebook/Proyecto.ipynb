{
 "cells": [
  {
   "cell_type": "code",
   "execution_count": 1,
   "id": "64e6950e-fbd0-447f-a1d7-7b68235c8b82",
   "metadata": {},
   "outputs": [],
   "source": [
    "from pyspark import SparkContext"
   ]
  },
  {
   "cell_type": "code",
   "execution_count": 2,
   "id": "d9133b83-173b-45d1-b136-ffdfa475c487",
   "metadata": {},
   "outputs": [
    {
     "name": "stderr",
     "output_type": "stream",
     "text": [
      "21/08/15 18:04:35 WARN Utils: Your hostname, MacBook-Pro-de-Paul-2.local resolves to a loopback address: 127.0.0.1; using 192.168.1.9 instead (on interface en0)\n",
      "21/08/15 18:04:35 WARN Utils: Set SPARK_LOCAL_IP if you need to bind to another address\n",
      "21/08/15 18:04:35 WARN NativeCodeLoader: Unable to load native-hadoop library for your platform... using builtin-java classes where applicable\n",
      "Using Spark's default log4j profile: org/apache/spark/log4j-defaults.properties\n",
      "Setting default log level to \"WARN\".\n",
      "To adjust logging level use sc.setLogLevel(newLevel). For SparkR, use setLogLevel(newLevel).\n"
     ]
    }
   ],
   "source": [
    "sc = SparkContext(master =\"local[2]\")"
   ]
  },
  {
   "cell_type": "code",
   "execution_count": 3,
   "id": "40725148-9c96-4c1a-8dad-ee4505bc3fad",
   "metadata": {},
   "outputs": [
    {
     "data": {
      "text/html": [
       "\n",
       "        <div>\n",
       "            <p><b>SparkContext</b></p>\n",
       "\n",
       "            <p><a href=\"http://192.168.1.9:4040\">Spark UI</a></p>\n",
       "\n",
       "            <dl>\n",
       "              <dt>Version</dt>\n",
       "                <dd><code>v3.1.2</code></dd>\n",
       "              <dt>Master</dt>\n",
       "                <dd><code>local[2]</code></dd>\n",
       "              <dt>AppName</dt>\n",
       "                <dd><code>pyspark-shell</code></dd>\n",
       "            </dl>\n",
       "        </div>\n",
       "        "
      ],
      "text/plain": [
       "<SparkContext master=local[2] appName=pyspark-shell>"
      ]
     },
     "execution_count": 3,
     "metadata": {},
     "output_type": "execute_result"
    }
   ],
   "source": [
    "# Cargar UI\n",
    "sc\n"
   ]
  },
  {
   "cell_type": "code",
   "execution_count": 4,
   "id": "4395da1d-edd9-4076-8bfb-60a68087d1d7",
   "metadata": {},
   "outputs": [],
   "source": [
    "# Crear una Sesion de spark\n",
    "from pyspark.sql import SparkSession"
   ]
  },
  {
   "cell_type": "code",
   "execution_count": 5,
   "id": "bbc020be-c738-48fa-a787-6a7285b924ee",
   "metadata": {},
   "outputs": [],
   "source": [
    "spark = SparkSession.builder.appName(\"TextoClasificacion\").getOrCreate()"
   ]
  },
  {
   "cell_type": "code",
   "execution_count": 6,
   "id": "ec512553-dbd8-4e94-a2e9-f81f62db95ce",
   "metadata": {},
   "outputs": [
    {
     "name": "stderr",
     "output_type": "stream",
     "text": [
      "                                                                                \r"
     ]
    }
   ],
   "source": [
    " # Cargando nuestros Datasets \n",
    "data_annotations = spark.read.option(\"header\",\"true\").option(\"inferSchema\",\"true\").csv(\"attack_annotations.csv\")\n",
    "data_comments = spark.read.option(\"header\",\"true\").option(\"inferSchema\",\"true\").csv(\"attack_annotated_comments_m.csv\")"
   ]
  },
  {
   "cell_type": "code",
   "execution_count": null,
   "id": "c9a437ee-591e-418e-9771-ba5026498f20",
   "metadata": {},
   "outputs": [
    {
     "name": "stdout",
     "output_type": "stream",
     "text": [
      "+--------------------+--------------------+--------------------+--------------------+--------------------+--------------------+--------------------+\n",
      "|              rev_id|             comment|                year|           logged_in|                  ns|              sample|       split;;;;;;;;|\n",
      "+--------------------+--------------------+--------------------+--------------------+--------------------+--------------------+--------------------+\n",
      "|\"37675,\"\"`-NEWLIN...|                fine| legitimate criti...| I'll write up ``...| nor likely the t...|                fine| I can fix that t...|\n",
      "|\"44816,\"\"`NEWLINE...|            the Pope| etc.  here's Kar...| cognitive bias b...| etc.NEWLINE_TOKE...| it's clear that ...| someone is still...|\n",
      "|\"49851,\"\"NEWLINE_...| the situation as...|                2002|               False|             article|              random|      train\";;;;;;;;|\n",
      "|      \"89320,\"\" Next| maybe you could ...| both of which I ...| thanks. I really...| yet you were bei...| you can learn to...|                2002|\n",
      "|\"93890,\"\"This pag...|                2002|                True|             article|              random|      train\";;;;;;;;|                null|\n",
      "+--------------------+--------------------+--------------------+--------------------+--------------------+--------------------+--------------------+\n",
      "only showing top 5 rows\n",
      "\n"
     ]
    }
   ],
   "source": [
    "data_comments.show(5)"
   ]
  },
  {
   "cell_type": "code",
   "execution_count": 111,
   "id": "dea2b4dc-5712-493f-8c82-023c8d3964a6",
   "metadata": {},
   "outputs": [
    {
     "name": "stdout",
     "output_type": "stream",
     "text": [
      "+------+---------+--------------+----------------+------------------+------------+------+\n",
      "|rev_id|worker_id|quoting_attack|recipient_attack|third_party_attack|other_attack|attack|\n",
      "+------+---------+--------------+----------------+------------------+------------+------+\n",
      "| 37675|     1362|           0.0|             0.0|               0.0|         0.0|   0.0|\n",
      "| 37675|     2408|           0.0|             0.0|               0.0|         0.0|   0.0|\n",
      "| 37675|     1493|           0.0|             0.0|               0.0|         0.0|   0.0|\n",
      "| 37675|     1439|           0.0|             0.0|               0.0|         0.0|   0.0|\n",
      "| 37675|      170|           0.0|             0.0|               0.0|         0.0|   0.0|\n",
      "+------+---------+--------------+----------------+------------------+------------+------+\n",
      "only showing top 5 rows\n",
      "\n"
     ]
    }
   ],
   "source": [
    "data_annotations.show(5)"
   ]
  },
  {
   "cell_type": "code",
   "execution_count": 8,
   "id": "53a67423-02a4-4e66-ba49-1efc2935bc4f",
   "metadata": {},
   "outputs": [
    {
     "name": "stdout",
     "output_type": "stream",
     "text": [
      "root\n",
      " |-- rev_id: string (nullable = true)\n",
      " |-- comment: string (nullable = true)\n",
      " |-- year: string (nullable = true)\n",
      " |-- logged_in: string (nullable = true)\n",
      " |-- ns: string (nullable = true)\n",
      " |-- sample: string (nullable = true)\n",
      " |-- split;;;;;;;;: string (nullable = true)\n",
      " |-- rev_id: integer (nullable = true)\n",
      " |-- worker_id: integer (nullable = true)\n",
      " |-- quoting_attack: double (nullable = true)\n",
      " |-- recipient_attack: double (nullable = true)\n",
      " |-- third_party_attack: double (nullable = true)\n",
      " |-- other_attack: double (nullable = true)\n",
      " |-- attack: double (nullable = true)\n",
      "\n"
     ]
    }
   ],
   "source": [
    "# Unir las dos tablas por rev_id\n",
    "data_comments = data_comments.join(data_annotations,data_comments.rev_id == data_annotations.rev_id,\"inner\")\n",
    "data_comments.printSchema()"
   ]
  },
  {
   "cell_type": "code",
   "execution_count": 9,
   "id": "f996baa4-0255-4be3-aace-ce980787fe83",
   "metadata": {},
   "outputs": [
    {
     "name": "stderr",
     "output_type": "stream",
     "text": [
      "                                                                                \r"
     ]
    },
    {
     "name": "stdout",
     "output_type": "stream",
     "text": [
      "+------+--------------------+----+---------+-------+------+-------------+------+---------+--------------+----------------+------------------+------------+------+\n",
      "|rev_id|             comment|year|logged_in|     ns|sample|split;;;;;;;;|rev_id|worker_id|quoting_attack|recipient_attack|third_party_attack|other_attack|attack|\n",
      "+------+--------------------+----+---------+-------+------+-------------+------+---------+--------------+----------------+------------------+------------+------+\n",
      "|138117|`NEWLINE_TOKENNEW...|2002|     True|article|random|train;;;;;;;;|138117|      127|           0.0|             0.0|               0.0|         0.0|   0.0|\n",
      "|138117|`NEWLINE_TOKENNEW...|2002|     True|article|random|train;;;;;;;;|138117|       13|           0.0|             0.0|               0.0|         0.0|   0.0|\n",
      "|138117|`NEWLINE_TOKENNEW...|2002|     True|article|random|train;;;;;;;;|138117|       15|           0.0|             0.0|               0.0|         0.0|   0.0|\n",
      "|138117|`NEWLINE_TOKENNEW...|2002|     True|article|random|train;;;;;;;;|138117|       29|           0.0|             0.0|               0.0|         0.0|   0.0|\n",
      "|138117|`NEWLINE_TOKENNEW...|2002|     True|article|random|train;;;;;;;;|138117|       44|           0.0|             0.0|               0.0|         0.0|   0.0|\n",
      "+------+--------------------+----+---------+-------+------+-------------+------+---------+--------------+----------------+------------------+------------+------+\n",
      "only showing top 5 rows\n",
      "\n"
     ]
    }
   ],
   "source": [
    "# Mostrando el nuevo esquema  \n",
    "data_comments.show(n=5)"
   ]
  },
  {
   "cell_type": "code",
   "execution_count": 10,
   "id": "5fb47d8a-1134-4bb0-a6c2-6b8fc874c55d",
   "metadata": {},
   "outputs": [
    {
     "name": "stdout",
     "output_type": "stream",
     "text": [
      "+--------------------+------+\n",
      "|             comment|attack|\n",
      "+--------------------+------+\n",
      "|`NEWLINE_TOKENNEW...|   0.0|\n",
      "|`NEWLINE_TOKENNEW...|   0.0|\n",
      "|`NEWLINE_TOKENNEW...|   0.0|\n",
      "|`NEWLINE_TOKENNEW...|   0.0|\n",
      "|`NEWLINE_TOKENNEW...|   0.0|\n",
      "+--------------------+------+\n",
      "only showing top 5 rows\n",
      "\n"
     ]
    }
   ],
   "source": [
    "#Elimando las Columnas no Requeridas \n",
    "data_comments = data_comments.drop(*['rev_id','logged_in','ns','sample','year','split;;;;;;;;','worker_id','quoting_attack','recipient_attack','third_party_attack','other_attack'])\n",
    "data_comments.show(n=5)"
   ]
  },
  {
   "cell_type": "code",
   "execution_count": 11,
   "id": "509a960a-0fde-4b82-aa90-7b652f8c0a1d",
   "metadata": {},
   "outputs": [
    {
     "name": "stderr",
     "output_type": "stream",
     "text": [
      "                                                                                \r"
     ]
    },
    {
     "data": {
      "text/plain": [
       "(1600, 2)"
      ]
     },
     "execution_count": 11,
     "metadata": {},
     "output_type": "execute_result"
    }
   ],
   "source": [
    "# Verificando la cantidad de datos\n",
    "(data_comments.count(), len(data_comments.columns))"
   ]
  },
  {
   "cell_type": "code",
   "execution_count": 12,
   "id": "05c91da0-ec21-40f3-8584-e51d53c7024e",
   "metadata": {},
   "outputs": [
    {
     "data": {
      "text/plain": [
       "['Binarizer',\n",
       " 'BucketedRandomProjectionLSH',\n",
       " 'BucketedRandomProjectionLSHModel',\n",
       " 'Bucketizer',\n",
       " 'ChiSqSelector',\n",
       " 'ChiSqSelectorModel',\n",
       " 'CountVectorizer',\n",
       " 'CountVectorizerModel',\n",
       " 'DCT',\n",
       " 'ElementwiseProduct',\n",
       " 'FeatureHasher',\n",
       " 'HasFeaturesCol',\n",
       " 'HasHandleInvalid',\n",
       " 'HasInputCol',\n",
       " 'HasInputCols',\n",
       " 'HasLabelCol',\n",
       " 'HasMaxIter',\n",
       " 'HasNumFeatures',\n",
       " 'HasOutputCol',\n",
       " 'HasOutputCols',\n",
       " 'HasRelativeError',\n",
       " 'HasSeed',\n",
       " 'HasStepSize',\n",
       " 'HasThreshold',\n",
       " 'HasThresholds',\n",
       " 'HashingTF',\n",
       " 'IDF',\n",
       " 'IDFModel',\n",
       " 'Imputer',\n",
       " 'ImputerModel',\n",
       " 'IndexToString',\n",
       " 'Interaction',\n",
       " 'JavaEstimator',\n",
       " 'JavaMLReadable',\n",
       " 'JavaMLWritable',\n",
       " 'JavaModel',\n",
       " 'JavaParams',\n",
       " 'JavaTransformer',\n",
       " 'MaxAbsScaler',\n",
       " 'MaxAbsScalerModel',\n",
       " 'MinHashLSH',\n",
       " 'MinHashLSHModel',\n",
       " 'MinMaxScaler',\n",
       " 'MinMaxScalerModel',\n",
       " 'NGram',\n",
       " 'Normalizer',\n",
       " 'OneHotEncoder',\n",
       " 'OneHotEncoderModel',\n",
       " 'PCA',\n",
       " 'PCAModel',\n",
       " 'Param',\n",
       " 'Params',\n",
       " 'PolynomialExpansion',\n",
       " 'QuantileDiscretizer',\n",
       " 'RFormula',\n",
       " 'RFormulaModel',\n",
       " 'RegexTokenizer',\n",
       " 'RobustScaler',\n",
       " 'RobustScalerModel',\n",
       " 'SQLTransformer',\n",
       " 'SparkContext',\n",
       " 'StandardScaler',\n",
       " 'StandardScalerModel',\n",
       " 'StopWordsRemover',\n",
       " 'StringIndexer',\n",
       " 'StringIndexerModel',\n",
       " 'Tokenizer',\n",
       " 'TypeConverters',\n",
       " 'UnivariateFeatureSelector',\n",
       " 'UnivariateFeatureSelectorModel',\n",
       " 'VarianceThresholdSelector',\n",
       " 'VarianceThresholdSelectorModel',\n",
       " 'VectorAssembler',\n",
       " 'VectorIndexer',\n",
       " 'VectorIndexerModel',\n",
       " 'VectorSizeHint',\n",
       " 'VectorSlicer',\n",
       " 'Word2Vec',\n",
       " 'Word2VecModel',\n",
       " '_BucketedRandomProjectionLSHParams',\n",
       " '_CountVectorizerParams',\n",
       " '_IDFParams',\n",
       " '_ImputerParams',\n",
       " '_LSH',\n",
       " '_LSHModel',\n",
       " '_LSHParams',\n",
       " '_MaxAbsScalerParams',\n",
       " '_MinMaxScalerParams',\n",
       " '_OneHotEncoderParams',\n",
       " '_PCAParams',\n",
       " '_RFormulaParams',\n",
       " '_RobustScalerParams',\n",
       " '_Selector',\n",
       " '_SelectorModel',\n",
       " '_SelectorParams',\n",
       " '_StandardScalerParams',\n",
       " '_StringIndexerParams',\n",
       " '_UnivariateFeatureSelectorParams',\n",
       " '_VarianceThresholdSelectorParams',\n",
       " '_VectorIndexerParams',\n",
       " '_Word2VecParams',\n",
       " '__all__',\n",
       " '__builtins__',\n",
       " '__cached__',\n",
       " '__doc__',\n",
       " '__file__',\n",
       " '__loader__',\n",
       " '__name__',\n",
       " '__package__',\n",
       " '__spec__',\n",
       " '_convert_to_vector',\n",
       " '_jvm',\n",
       " 'inherit_doc',\n",
       " 'keyword_only',\n",
       " 'since']"
      ]
     },
     "execution_count": 12,
     "metadata": {},
     "output_type": "execute_result"
    }
   ],
   "source": [
    "# Cargar los paquetes\n",
    "import pyspark.ml.feature\n",
    "dir(pyspark.ml.feature)"
   ]
  },
  {
   "cell_type": "code",
   "execution_count": 13,
   "id": "7039f3ca-7fc7-43c3-b051-9a7cac23e871",
   "metadata": {},
   "outputs": [],
   "source": [
    "# Load Our Trabsfomers & Extractor Pkgs.\n",
    "from pyspark.ml.feature import Tokenizer, StopWordsRemover,CountVectorizer,IDF\n",
    "from pyspark.ml.feature import StringIndexer"
   ]
  },
  {
   "cell_type": "code",
   "execution_count": 14,
   "id": "696217ee-08a9-4e62-9a3a-268e0b62f896",
   "metadata": {},
   "outputs": [],
   "source": [
    "# Stages for the Pipeline\n",
    "tokenizer = Tokenizer(inputCol = 'comment', outputCol = 'mytokens')\n",
    "stopwords_remover = StopWordsRemover(inputCol = 'mytokens', outputCol = 'filtered_tokens')\n",
    "vectorizer = CountVectorizer(inputCol='filtered_tokens', outputCol = 'rawFeatures')\n",
    "idf = IDF(inputCol = 'rawFeatures', outputCol = 'vectorizedFeatures')"
   ]
  },
  {
   "cell_type": "code",
   "execution_count": 15,
   "id": "1143c035-ce42-41f6-a2f4-ad623be974f8",
   "metadata": {},
   "outputs": [],
   "source": [
    "## Dividir el DataSet \n",
    "(train, test) = data_comments.randomSplit((0.7,0.3), seed = 42)"
   ]
  },
  {
   "cell_type": "code",
   "execution_count": 16,
   "id": "72abaeb5-3211-4da4-ad32-d20375260796",
   "metadata": {},
   "outputs": [
    {
     "name": "stderr",
     "output_type": "stream",
     "text": [
      "[Stage 13:>                                                         (0 + 1) / 1]\r"
     ]
    },
    {
     "name": "stdout",
     "output_type": "stream",
     "text": [
      "+--------------------+------+\n",
      "|             comment|attack|\n",
      "+--------------------+------+\n",
      "|.  See the GFDL a...|   0.0|\n",
      "|.  See the GFDL a...|   0.0|\n",
      "|.  See the GFDL a...|   0.0|\n",
      "|.  See the GFDL a...|   0.0|\n",
      "|.  See the GFDL a...|   0.0|\n",
      "|.  See the GFDL a...|   0.0|\n",
      "|.  See the GFDL a...|   0.0|\n",
      "|.  See the GFDL a...|   0.0|\n",
      "|.  See the GFDL a...|   0.0|\n",
      "|.  See the GFDL a...|   0.0|\n",
      "|.  See the GFDL a...|   0.0|\n",
      "|.  See the GFDL a...|   0.0|\n",
      "|.NEWLINE_TOKEN*Th...|   0.0|\n",
      "|.NEWLINE_TOKEN*Th...|   0.0|\n",
      "|.NEWLINE_TOKEN*Th...|   0.0|\n",
      "|.NEWLINE_TOKEN*Th...|   0.0|\n",
      "|.NEWLINE_TOKEN*Th...|   0.0|\n",
      "|.com  All parts o...|   0.0|\n",
      "|.com  All parts o...|   0.0|\n",
      "|.com  All parts o...|   0.0|\n",
      "+--------------------+------+\n",
      "only showing top 20 rows\n",
      "\n"
     ]
    },
    {
     "name": "stderr",
     "output_type": "stream",
     "text": [
      "                                                                                \r"
     ]
    }
   ],
   "source": [
    "train.show()"
   ]
  },
  {
   "cell_type": "code",
   "execution_count": 17,
   "id": "000c9409-ed29-4d63-83a7-01800394c600",
   "metadata": {},
   "outputs": [],
   "source": [
    "### Estimador \n",
    "from pyspark.ml.classification import LogisticRegression"
   ]
  },
  {
   "cell_type": "code",
   "execution_count": 18,
   "id": "869ec934-f52a-4306-889e-bf5912daf386",
   "metadata": {},
   "outputs": [],
   "source": [
    "lr = LogisticRegression(featuresCol='vectorizedFeatures', labelCol='attack')"
   ]
  },
  {
   "cell_type": "code",
   "execution_count": 19,
   "id": "7148084e-38c9-4055-85af-459ce26be79f",
   "metadata": {},
   "outputs": [],
   "source": [
    "from pyspark.ml import Pipeline"
   ]
  },
  {
   "cell_type": "code",
   "execution_count": 20,
   "id": "ea635541-acc0-4f7b-a32d-dfcaf3dff521",
   "metadata": {},
   "outputs": [],
   "source": [
    "pipeline = Pipeline(stages=[tokenizer,stopwords_remover,vectorizer,idf,lr])"
   ]
  },
  {
   "cell_type": "code",
   "execution_count": 21,
   "id": "e0cbb284-ccff-4fbe-bff4-ec81990e30e6",
   "metadata": {},
   "outputs": [
    {
     "data": {
      "text/plain": [
       "Pipeline_21d1eb16bab1"
      ]
     },
     "execution_count": 21,
     "metadata": {},
     "output_type": "execute_result"
    }
   ],
   "source": [
    "pipeline"
   ]
  },
  {
   "cell_type": "code",
   "execution_count": 22,
   "id": "5093611a-b7cb-47f7-bc1f-b39020337ff1",
   "metadata": {},
   "outputs": [
    {
     "data": {
      "text/plain": [
       "Param(parent='Pipeline_21d1eb16bab1', name='stages', doc='a list of pipeline stages')"
      ]
     },
     "execution_count": 22,
     "metadata": {},
     "output_type": "execute_result"
    }
   ],
   "source": [
    "pipeline.stages"
   ]
  },
  {
   "cell_type": "code",
   "execution_count": 23,
   "id": "b9915be2-950c-4c94-81df-a3e4f742bdbe",
   "metadata": {},
   "outputs": [
    {
     "name": "stderr",
     "output_type": "stream",
     "text": [
      "21/08/15 18:05:55 WARN BLAS: Failed to load implementation from: com.github.fommil.netlib.NativeSystemBLAS\n",
      "21/08/15 18:05:55 WARN BLAS: Failed to load implementation from: com.github.fommil.netlib.NativeRefBLAS\n",
      "                                                                                \r"
     ]
    }
   ],
   "source": [
    "# Contruyendo el modelo\n",
    "lr_model = pipeline.fit(train)"
   ]
  },
  {
   "cell_type": "code",
   "execution_count": 24,
   "id": "72dbbf5b-118e-419b-94cb-c02a5ae1fe81",
   "metadata": {},
   "outputs": [
    {
     "data": {
      "text/plain": [
       "PipelineModel_6c8c9942d40a"
      ]
     },
     "execution_count": 24,
     "metadata": {},
     "output_type": "execute_result"
    }
   ],
   "source": [
    "lr_model"
   ]
  },
  {
   "cell_type": "code",
   "execution_count": 25,
   "id": "17e85356-ee21-4162-859b-a10ad175d7fe",
   "metadata": {},
   "outputs": [],
   "source": [
    "# Predictions on our Test Dataset\n",
    "predictions = lr_model.transform(test)"
   ]
  },
  {
   "cell_type": "code",
   "execution_count": 26,
   "id": "891858de-208e-499e-bc84-a2145fc08bc4",
   "metadata": {},
   "outputs": [
    {
     "name": "stderr",
     "output_type": "stream",
     "text": [
      "[Stage 94:>                                                         (0 + 1) / 1]\r"
     ]
    },
    {
     "name": "stdout",
     "output_type": "stream",
     "text": [
      "+--------------------+------+--------------------+--------------------+--------------------+--------------------+--------------------+--------------------+----------+\n",
      "|             comment|attack|            mytokens|     filtered_tokens|         rawFeatures|  vectorizedFeatures|       rawPrediction|         probability|prediction|\n",
      "+--------------------+------+--------------------+--------------------+--------------------+--------------------+--------------------+--------------------+----------+\n",
      "|.  See the GFDL a...|   0.0|[., , see, the, g...|[., , see, gfdl, ...|(1318,[0,2,41,52,...|(1318,[0,2,41,52,...|[21.2742222355105...|[0.99999999942360...|       0.0|\n",
      "|.  See the GFDL a...|   0.0|[., , see, the, g...|[., , see, gfdl, ...|(1318,[0,2,41,52,...|(1318,[0,2,41,52,...|[21.2742222355105...|[0.99999999942360...|       0.0|\n",
      "|.  See the GFDL a...|   0.0|[., , see, the, g...|[., , see, gfdl, ...|(1318,[0,2,41,52,...|(1318,[0,2,41,52,...|[21.2742222355105...|[0.99999999942360...|       0.0|\n",
      "|.  See the GFDL a...|   0.0|[., , see, the, g...|[., , see, gfdl, ...|(1318,[0,2,41,52,...|(1318,[0,2,41,52,...|[21.2742222355105...|[0.99999999942360...|       0.0|\n",
      "|.  See the GFDL a...|   0.0|[., , see, the, g...|[., , see, gfdl, ...|(1318,[0,2,41,52,...|(1318,[0,2,41,52,...|[21.2742222355105...|[0.99999999942360...|       0.0|\n",
      "|.  See the GFDL a...|   0.0|[., , see, the, g...|[., , see, gfdl, ...|(1318,[0,2,41,52,...|(1318,[0,2,41,52,...|[21.2742222355105...|[0.99999999942360...|       0.0|\n",
      "|.  See the GFDL a...|   0.0|[., , see, the, g...|[., , see, gfdl, ...|(1318,[0,2,41,52,...|(1318,[0,2,41,52,...|[21.2742222355105...|[0.99999999942360...|       0.0|\n",
      "|.NEWLINE_TOKEN*Th...|   0.0|[.newline_token*t...|[.newline_token*t...|(1318,[206,1248,1...|(1318,[206,1248,1...|[24.3495336741877...|[0.99999999997338...|       0.0|\n",
      "|.NEWLINE_TOKEN*Th...|   0.0|[.newline_token*t...|[.newline_token*t...|(1318,[206,1248,1...|(1318,[206,1248,1...|[24.3495336741877...|[0.99999999997338...|       0.0|\n",
      "|.NEWLINE_TOKEN*Th...|   0.0|[.newline_token*t...|[.newline_token*t...|(1318,[206,1248,1...|(1318,[206,1248,1...|[24.3495336741877...|[0.99999999997338...|       0.0|\n",
      "|.NEWLINE_TOKEN*Th...|   0.0|[.newline_token*t...|[.newline_token*t...|(1318,[206,1248,1...|(1318,[206,1248,1...|[24.3495336741877...|[0.99999999997338...|       0.0|\n",
      "|.com  All parts o...|   0.0|[.com, , all, par...|[.com, , parts, a...|(1318,[0,2,30,129...|(1318,[0,2,30,129...|[18.5030831892947...|[0.99999999079098...|       0.0|\n",
      "|.com  All parts o...|   0.0|[.com, , all, par...|[.com, , parts, a...|(1318,[0,2,30,129...|(1318,[0,2,30,129...|[18.5030831892947...|[0.99999999079098...|       0.0|\n",
      "|.com  All parts o...|   0.0|[.com, , all, par...|[.com, , parts, a...|(1318,[0,2,30,129...|(1318,[0,2,30,129...|[18.5030831892947...|[0.99999999079098...|       0.0|\n",
      "|.com  All parts o...|   0.0|[.com, , all, par...|[.com, , parts, a...|(1318,[0,2,30,129...|(1318,[0,2,30,129...|[18.5030831892947...|[0.99999999079098...|       0.0|\n",
      "|.com  All parts o...|   0.0|[.com, , all, par...|[.com, , parts, a...|(1318,[0,2,30,129...|(1318,[0,2,30,129...|[18.5030831892947...|[0.99999999079098...|       0.0|\n",
      "|.com  All parts o...|   0.0|[.com, , all, par...|[.com, , parts, a...|(1318,[0,2,30,129...|(1318,[0,2,30,129...|[18.5030831892947...|[0.99999999079098...|       0.0|\n",
      "|An event mentione...|   0.0|[an, event, menti...|[event, mentioned...|(1318,[2,112,1291...|(1318,[2,112,1291...|[21.8906017913148...|[0.99999999968880...|       0.0|\n",
      "|An event mentione...|   0.0|[an, event, menti...|[event, mentioned...|(1318,[2,112,1291...|(1318,[2,112,1291...|[21.8906017913148...|[0.99999999968880...|       0.0|\n",
      "|An event mentione...|   0.0|[an, event, menti...|[event, mentioned...|(1318,[2,112,1291...|(1318,[2,112,1291...|[21.8906017913148...|[0.99999999968880...|       0.0|\n",
      "+--------------------+------+--------------------+--------------------+--------------------+--------------------+--------------------+--------------------+----------+\n",
      "only showing top 20 rows\n",
      "\n"
     ]
    },
    {
     "name": "stderr",
     "output_type": "stream",
     "text": [
      "                                                                                \r"
     ]
    }
   ],
   "source": [
    "predictions.show()"
   ]
  },
  {
   "cell_type": "code",
   "execution_count": 27,
   "id": "65c8a9cc-27cd-4c51-8aec-5da389bdf43b",
   "metadata": {},
   "outputs": [
    {
     "data": {
      "text/plain": [
       "['comment',\n",
       " 'attack',\n",
       " 'mytokens',\n",
       " 'filtered_tokens',\n",
       " 'rawFeatures',\n",
       " 'vectorizedFeatures',\n",
       " 'rawPrediction',\n",
       " 'probability',\n",
       " 'prediction']"
      ]
     },
     "execution_count": 27,
     "metadata": {},
     "output_type": "execute_result"
    }
   ],
   "source": [
    "# Select Columns\n",
    "predictions.columns"
   ]
  },
  {
   "cell_type": "code",
   "execution_count": 28,
   "id": "bae5783b-57de-41b5-b185-e2a63eb11ae7",
   "metadata": {},
   "outputs": [
    {
     "name": "stderr",
     "output_type": "stream",
     "text": [
      "[Stage 96:>                                                         (0 + 1) / 1]\r"
     ]
    },
    {
     "name": "stdout",
     "output_type": "stream",
     "text": [
      "+--------------------+--------------------+--------------------+------+----------+\n",
      "|       rawPrediction|         probability|             comment|attack|prediction|\n",
      "+--------------------+--------------------+--------------------+------+----------+\n",
      "|[21.2742222355105...|[0.99999999942360...|.  See the GFDL a...|   0.0|       0.0|\n",
      "|[21.2742222355105...|[0.99999999942360...|.  See the GFDL a...|   0.0|       0.0|\n",
      "|[21.2742222355105...|[0.99999999942360...|.  See the GFDL a...|   0.0|       0.0|\n",
      "|[21.2742222355105...|[0.99999999942360...|.  See the GFDL a...|   0.0|       0.0|\n",
      "|[21.2742222355105...|[0.99999999942360...|.  See the GFDL a...|   0.0|       0.0|\n",
      "|[21.2742222355105...|[0.99999999942360...|.  See the GFDL a...|   0.0|       0.0|\n",
      "|[21.2742222355105...|[0.99999999942360...|.  See the GFDL a...|   0.0|       0.0|\n",
      "|[24.3495336741877...|[0.99999999997338...|.NEWLINE_TOKEN*Th...|   0.0|       0.0|\n",
      "|[24.3495336741877...|[0.99999999997338...|.NEWLINE_TOKEN*Th...|   0.0|       0.0|\n",
      "|[24.3495336741877...|[0.99999999997338...|.NEWLINE_TOKEN*Th...|   0.0|       0.0|\n",
      "+--------------------+--------------------+--------------------+------+----------+\n",
      "only showing top 10 rows\n",
      "\n"
     ]
    },
    {
     "name": "stderr",
     "output_type": "stream",
     "text": [
      "                                                                                \r"
     ]
    }
   ],
   "source": [
    "predictions.select('rawPrediction','probability','comment','attack','prediction').show(10)"
   ]
  },
  {
   "cell_type": "code",
   "execution_count": 29,
   "id": "e7bf85e0-1fd7-4c3c-9c5f-46e1f8c46b09",
   "metadata": {},
   "outputs": [],
   "source": [
    "from pyspark.ml.evaluation import MulticlassClassificationEvaluator"
   ]
  },
  {
   "cell_type": "code",
   "execution_count": 30,
   "id": "1f9299fa-d16d-4825-a802-d47faf58a69f",
   "metadata": {},
   "outputs": [],
   "source": [
    "evaluator = MulticlassClassificationEvaluator(labelCol='attack',predictionCol='prediction',metricName='accuracy')"
   ]
  },
  {
   "cell_type": "code",
   "execution_count": 31,
   "id": "cf9813fc-cc35-485f-9367-b73544c773bd",
   "metadata": {},
   "outputs": [
    {
     "name": "stderr",
     "output_type": "stream",
     "text": [
      "                                                                                \r"
     ]
    }
   ],
   "source": [
    "accuracy = evaluator.evaluate(predictions)"
   ]
  },
  {
   "cell_type": "code",
   "execution_count": 32,
   "id": "b8637571-f7e1-445c-b35d-12820f947d2d",
   "metadata": {},
   "outputs": [
    {
     "data": {
      "text/plain": [
       "0.9483568075117371"
      ]
     },
     "execution_count": 32,
     "metadata": {},
     "output_type": "execute_result"
    }
   ],
   "source": [
    "accuracy"
   ]
  },
  {
   "cell_type": "code",
   "execution_count": 33,
   "id": "51d9286b-02dc-4693-ba05-d7eb97571028",
   "metadata": {},
   "outputs": [],
   "source": [
    "#### Method 2: Precision. F1Score (Classification Report)\n",
    "from pyspark.mllib.evaluation import MulticlassMetrics"
   ]
  },
  {
   "cell_type": "code",
   "execution_count": 34,
   "id": "5783b578-208c-43c4-bc8b-6d185aa82bab",
   "metadata": {},
   "outputs": [
    {
     "name": "stderr",
     "output_type": "stream",
     "text": [
      "                                                                                \r"
     ]
    }
   ],
   "source": [
    "lr_metric = MulticlassMetrics(predictions['attack','prediction'].rdd)"
   ]
  },
  {
   "cell_type": "code",
   "execution_count": 35,
   "id": "e339af98-0554-45ac-9084-49771df23e17",
   "metadata": {},
   "outputs": [
    {
     "name": "stderr",
     "output_type": "stream",
     "text": [
      "[Stage 102:============================>                            (1 + 1) / 2]\r"
     ]
    },
    {
     "name": "stdout",
     "output_type": "stream",
     "text": [
      "Accuracy: 0.9483568075117371\n",
      "Precision: 0.13636363636363635\n",
      "Recall: 0.5\n",
      "F1Score: 0.21428571428571427\n"
     ]
    },
    {
     "name": "stderr",
     "output_type": "stream",
     "text": [
      "                                                                                \r"
     ]
    }
   ],
   "source": [
    "print(\"Accuracy:\",lr_metric.accuracy)\n",
    "print(\"Precision:\",lr_metric.precision(1.0))\n",
    "print(\"Recall:\",lr_metric.recall(1.0))\n",
    "print(\"F1Score:\",lr_metric.fMeasure(1.0))"
   ]
  },
  {
   "cell_type": "code",
   "execution_count": 45,
   "id": "62dc1f60-af73-4302-99ae-4f28b86ccda0",
   "metadata": {},
   "outputs": [],
   "source": [
    "from pyspark.sql.types import StringType"
   ]
  },
  {
   "cell_type": "code",
   "execution_count": 103,
   "id": "3e793b42-e1c4-433f-9b6d-e78eb261a546",
   "metadata": {},
   "outputs": [],
   "source": [
    "ex1 = spark.createDataFrame([\n",
    "    (\"You are black\",StringType())\n",
    "],\n",
    "# Column Name\n",
    "[\"comment\"]\n",
    "\n",
    ")"
   ]
  },
  {
   "cell_type": "code",
   "execution_count": 104,
   "id": "837daf4a-e7fc-4dd2-bc17-29167cc02521",
   "metadata": {},
   "outputs": [
    {
     "name": "stdout",
     "output_type": "stream",
     "text": [
      "+-------------+---+\n",
      "|      comment| _2|\n",
      "+-------------+---+\n",
      "|You are black| {}|\n",
      "+-------------+---+\n",
      "\n"
     ]
    }
   ],
   "source": [
    "ex1.show()"
   ]
  },
  {
   "cell_type": "code",
   "execution_count": 105,
   "id": "aaa96371-ef13-4a71-a75c-7d107c450447",
   "metadata": {},
   "outputs": [
    {
     "name": "stdout",
     "output_type": "stream",
     "text": [
      "+-------------+---+\n",
      "|comment      |_2 |\n",
      "+-------------+---+\n",
      "|You are black|{} |\n",
      "+-------------+---+\n",
      "\n"
     ]
    }
   ],
   "source": [
    "# Show Full \n",
    "ex1.show(truncate=False)"
   ]
  },
  {
   "cell_type": "code",
   "execution_count": 106,
   "id": "e352dcad-80cf-433c-b43e-1d6642aa4559",
   "metadata": {},
   "outputs": [],
   "source": [
    "\n",
    "# Predict\n",
    "pred_ex1 = lr_model.transform(ex1)"
   ]
  },
  {
   "cell_type": "code",
   "execution_count": 108,
   "id": "a9db0fea-15f8-4aff-880b-8a99a579212e",
   "metadata": {},
   "outputs": [
    {
     "name": "stdout",
     "output_type": "stream",
     "text": [
      "+-------------+---+-----------------+---------------+------------+------------------+--------------------+--------------------+----------+\n",
      "|      comment| _2|         mytokens|filtered_tokens| rawFeatures|vectorizedFeatures|       rawPrediction|         probability|prediction|\n",
      "+-------------+---+-----------------+---------------+------------+------------------+--------------------+--------------------+----------+\n",
      "|You are black| {}|[you, are, black]|        [black]|(1318,[],[])|      (1318,[],[])|[4.24584443690874...|[0.98587863607057...|       0.0|\n",
      "+-------------+---+-----------------+---------------+------------+------------------+--------------------+--------------------+----------+\n",
      "\n"
     ]
    }
   ],
   "source": [
    "pred_ex1.show()"
   ]
  },
  {
   "cell_type": "code",
   "execution_count": 109,
   "id": "413949e4-3878-4008-abd1-3f9c141fe63e",
   "metadata": {},
   "outputs": [
    {
     "data": {
      "text/plain": [
       "['comment',\n",
       " '_2',\n",
       " 'mytokens',\n",
       " 'filtered_tokens',\n",
       " 'rawFeatures',\n",
       " 'vectorizedFeatures',\n",
       " 'rawPrediction',\n",
       " 'probability',\n",
       " 'prediction']"
      ]
     },
     "execution_count": 109,
     "metadata": {},
     "output_type": "execute_result"
    }
   ],
   "source": [
    "\n",
    "pred_ex1.columns"
   ]
  },
  {
   "cell_type": "code",
   "execution_count": 110,
   "id": "304df5be-f4a2-4468-a04c-d2d51469624c",
   "metadata": {},
   "outputs": [
    {
     "name": "stdout",
     "output_type": "stream",
     "text": [
      "+-------------+--------------------+--------------------+----------+\n",
      "|      comment|       rawPrediction|         probability|prediction|\n",
      "+-------------+--------------------+--------------------+----------+\n",
      "|You are black|[4.24584443690874...|[0.98587863607057...|       0.0|\n",
      "+-------------+--------------------+--------------------+----------+\n",
      "\n"
     ]
    }
   ],
   "source": [
    "pred_ex1.select('comment','rawPrediction','probability','prediction').show()"
   ]
  },
  {
   "cell_type": "code",
   "execution_count": null,
   "id": "dcf29131-a426-4dc7-99c1-0c9241eb7a0d",
   "metadata": {},
   "outputs": [],
   "source": []
  }
 ],
 "metadata": {
  "kernelspec": {
   "display_name": "Python 3 (ipykernel)",
   "language": "python",
   "name": "python3"
  },
  "language_info": {
   "codemirror_mode": {
    "name": "ipython",
    "version": 3
   },
   "file_extension": ".py",
   "mimetype": "text/x-python",
   "name": "python",
   "nbconvert_exporter": "python",
   "pygments_lexer": "ipython3",
   "version": "3.9.5"
  }
 },
 "nbformat": 4,
 "nbformat_minor": 5
}
